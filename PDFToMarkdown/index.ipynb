{
 "cells": [
  {
   "cell_type": "code",
   "execution_count": null,
   "metadata": {},
   "outputs": [],
   "source": [
    "from langchain_text_splitters import MarkdownHeaderTextSplitter"
   ]
  },
  {
   "cell_type": "code",
   "execution_count": 2,
   "metadata": {},
   "outputs": [
    {
     "data": {
      "text/plain": [
       "[Document(metadata={'Header 1': 'Foo', 'Header 2': 'Bar'}, page_content='Hi this is Jim  \\nHi this is Joe'),\n",
       " Document(metadata={'Header 1': 'Foo', 'Header 2': 'Bar', 'Header 3': 'Boo'}, page_content='Hi this is Lance'),\n",
       " Document(metadata={'Header 1': 'Foo', 'Header 2': 'Baz'}, page_content='Hi this is Molly')]"
      ]
     },
     "execution_count": 2,
     "metadata": {},
     "output_type": "execute_result"
    }
   ],
   "source": [
    "markdown_document = \"# Foo\\n\\n    ## Bar\\n\\nHi this is Jim\\n\\nHi this is Joe\\n\\n ### Boo \\n\\n Hi this is Lance \\n\\n ## Baz\\n\\n Hi this is Molly\"\n",
    "\n",
    "headers_to_split_on = [\n",
    "    (\"#\", \"Header 1\"),\n",
    "    (\"##\", \"Header 2\"),\n",
    "    (\"###\", \"Header 3\"),\n",
    "]\n",
    "\n",
    "markdown_splitter = MarkdownHeaderTextSplitter(headers_to_split_on)\n",
    "md_header_splits = markdown_splitter.split_text(markdown_document)\n",
    "md_header_splits"
   ]
  },
  {
   "cell_type": "code",
   "execution_count": 6,
   "metadata": {},
   "outputs": [],
   "source": [
    "with open(\"output/BA/BA.md\", \"r\") as file:\n",
    "    ba_document = file.read()"
   ]
  },
  {
   "cell_type": "code",
   "execution_count": 9,
   "metadata": {},
   "outputs": [],
   "source": [
    "# Initialize the MarkdownSplitter\n",
    "splitter = MarkdownHeaderTextSplitter(headers_to_split_on)\n",
    "\n",
    "# Split the content\n",
    "chunks = splitter.split_text(ba_document)"
   ]
  },
  {
   "cell_type": "code",
   "execution_count": 20,
   "metadata": {},
   "outputs": [
    {
     "name": "stdout",
     "output_type": "stream",
     "text": [
      "Chương 1. TỔNG QUAN BÀI TOÁN PHÂN TÍCH DỮ LIỆU VÀ THỐNG KÊ MÔ TẢ\n",
      "Chương 1. TỔNG QUAN BÀI TOÁN PHÂN TÍCH DỮ LIỆU VÀ THỐNG KÊ MÔ TẢ\n",
      "Chương 1. TỔNG QUAN BÀI TOÁN PHÂN TÍCH DỮ LIỆU VÀ THỐNG KÊ MÔ TẢ\n",
      "Ưu Điểm:\n",
      "Ứng Dụng:\n",
      "1.7. Thực hành thống kê mô tả và trực quan trên ngôn ngữ R và Python\n",
      "1.7. Thực hành thống kê mô tả và trực quan trên ngôn ngữ R và Python\n",
      "Thực hiện tìm các ước tính biến thiên\n",
      "Thực hiện tìm các ước tính biến thiên\n",
      "Thực hiện tìm các ước tính biến thiên\n",
      "Thực hiện tìm các ước tính biến thiên\n",
      "Thực hiện tìm các ước tính biến thiên\n",
      "Bài tập vận dụng\n",
      "Chương 2. PHÂN TÍCH DIỄN GIẢI DỮ LIỆU\n",
      "Hình 2.2. Driver Dataset cho thống kê diễn giải 2.5.1 Thực hành kiểm định ANOVA trên ngôn ngữ R và Python\n",
      "Hình 2.2. Driver Dataset cho thống kê diễn giải 2.5.1 Thực hành kiểm định ANOVA trên ngôn ngữ R và Python\n",
      "Hình 2.2. Driver Dataset cho thống kê diễn giải 2.5.1 Thực hành kiểm định ANOVA trên ngôn ngữ R và Python\n",
      "Câu hỏi lý thuyết\n",
      "Câu hỏi lý thuyết\n",
      "3.3.1 Phương pháp tìm phương trình hồi quy phi tuyến bằng hàm f\n",
      "3.3.2 Phương pháp tìm phương trình hồi quy phi tuyến Gauss Newton\n",
      "3.5. Sử dụng R và Python Thực hành mô hình hồi quy trong kinh doanh\n",
      "4.4.2 Thực hành hồi quy logistics trên ngôn ngữ lập trình Python\n",
      "Câu hỏi lý thuyết\n",
      "Bài tập vận dụng\n",
      "Chương 5. DỰ BÁO DỮ LIỆU CHUỖI THỜI GIAN\n",
      "Chương 5. DỰ BÁO DỮ LIỆU CHUỖI THỜI GIAN\n",
      "Chương 5. DỰ BÁO DỮ LIỆU CHUỖI THỜI GIAN\n",
      "5.3. Mô hình Autoregressive Integrated Moving Average with Exogenous Variables – ARIMAX\n",
      "5.4. Mô hình Seasonal Autoregressive Integrated Moving Average – SARIMA\n",
      "5.4. Mô hình Seasonal Autoregressive Integrated Moving Average – SARIMA\n",
      "Bài tập vận dụng\n",
      "Chương 6. MÁY HỌC VÀ BÀI TOÁN DỰ BÁO\n",
      "Chương 6. MÁY HỌC VÀ BÀI TOÁN DỰ BÁO\n",
      "Chương 6. MÁY HỌC VÀ BÀI TOÁN DỰ BÁO\n",
      "Chương 6. MÁY HỌC VÀ BÀI TOÁN DỰ BÁO\n",
      "Bài tập vận dụng\n",
      "CHƯƠNG PHỤ LỤC. HƯỚNG DẪN SỬ DỤNG SÁCH\n",
      "CHƯƠNG PHỤ LỤC. HƯỚNG DẪN SỬ DỤNG SÁCH\n",
      "Hướng dẫn sử dụng mã QR\n",
      "TÀI LIỆU THAM KHẢO\n"
     ]
    }
   ],
   "source": [
    "for chunk in chunks:\n",
    "    if(chunk.metadata.get(\"Header 2\")):\n",
    "        print(chunk.metadata.get(\"Header 2\"))"
   ]
  }
 ],
 "metadata": {
  "kernelspec": {
   "display_name": "base",
   "language": "python",
   "name": "python3"
  },
  "language_info": {
   "codemirror_mode": {
    "name": "ipython",
    "version": 3
   },
   "file_extension": ".py",
   "mimetype": "text/x-python",
   "name": "python",
   "nbconvert_exporter": "python",
   "pygments_lexer": "ipython3",
   "version": "3.12.7"
  }
 },
 "nbformat": 4,
 "nbformat_minor": 2
}
