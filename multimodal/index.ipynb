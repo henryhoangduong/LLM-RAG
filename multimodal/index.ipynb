{
 "cells": [
  {
   "cell_type": "code",
   "execution_count": 15,
   "metadata": {},
   "outputs": [],
   "source": [
    "from  unstructured.partition.pdf import partition_pdf\n",
    "output_path = \"./content/\"\n",
    "file_path = output_path + \"attention.pdf\""
   ]
  },
  {
   "cell_type": "code",
   "execution_count": 22,
   "metadata": {},
   "outputs": [],
   "source": [
    "chunks = partition_pdf(filename=file_path,infer_table_structure=True, strategy=\"hi_res\", extract_image_block_types= [\"Image\"], extract_image_block_to_payload=True, chunking_strategy=\"by_title\",max_characters=10000,combine_text_under_n_chars=2000, new_after_n_chars= 6000)"
   ]
  },
  {
   "cell_type": "code",
   "execution_count": 28,
   "metadata": {},
   "outputs": [
    {
     "data": {
      "text/plain": [
       "{\"<class 'unstructured.documents.elements.CompositeElement'>\"}"
      ]
     },
     "execution_count": 28,
     "metadata": {},
     "output_type": "execute_result"
    }
   ],
   "source": [
    "set([str(type(el)) for el in chunks] )"
   ]
  },
  {
   "cell_type": "code",
   "execution_count": 29,
   "metadata": {},
   "outputs": [
    {
     "data": {
      "text/plain": [
       "12"
      ]
     },
     "execution_count": 29,
     "metadata": {},
     "output_type": "execute_result"
    }
   ],
   "source": [
    "len(chunks)"
   ]
  },
  {
   "cell_type": "code",
   "execution_count": 30,
   "metadata": {},
   "outputs": [
    {
     "data": {
      "text/plain": [
       "[<unstructured.documents.elements.Title at 0x14e2fa2a0>,\n",
       " <unstructured.documents.elements.NarrativeText at 0x14e2fa3f0>,\n",
       " <unstructured.documents.elements.Footer at 0x14e2fa570>,\n",
       " <unstructured.documents.elements.Title at 0x107edfc80>,\n",
       " <unstructured.documents.elements.Title at 0x35d225ca0>,\n",
       " <unstructured.documents.elements.Image at 0x14e2fa6c0>,\n",
       " <unstructured.documents.elements.Image at 0x14e2fa7b0>,\n",
       " <unstructured.documents.elements.NarrativeText at 0x14e2fa900>,\n",
       " <unstructured.documents.elements.NarrativeText at 0x14e2faa80>,\n",
       " <unstructured.documents.elements.Title at 0x14e2fabd0>,\n",
       " <unstructured.documents.elements.NarrativeText at 0x14e2fad50>,\n",
       " <unstructured.documents.elements.NarrativeText at 0x14e2faea0>,\n",
       " <unstructured.documents.elements.Formula at 0x14e2fb020>,\n",
       " <unstructured.documents.elements.NarrativeText at 0x14e2fb0e0>,\n",
       " <unstructured.documents.elements.NarrativeText at 0x14e2fb290>]"
      ]
     },
     "execution_count": 30,
     "metadata": {},
     "output_type": "execute_result"
    }
   ],
   "source": [
    "chunks[3].metadata.orig_elements"
   ]
  },
  {
   "cell_type": "code",
   "execution_count": 31,
   "metadata": {},
   "outputs": [
    {
     "data": {
      "text/plain": [
       "{'type': 'CompositeElement',\n",
       " 'element_id': 'a43b32eb5c561ab9688edebf84b17900',\n",
       " 'text': '3\\n\\n2023\\n\\n2\\n\\n0\\n\\n2\\n\\ng u A 2 ] L C . s c [ 7 v 2 6 7 3 0 . 6 0\\n\\n7\\n\\n1\\n\\n:\\n\\nv\\n\\narXiv\\n\\ni\\n\\nX\\n\\nr\\n\\na\\n\\nProvided proper attribution is provided, Google hereby grants permission to reproduce the tables and figures in this paper solely for use in journalistic or scholarly works.\\n\\nAttention Is All You Need\\n\\nAshish Vaswani∗\\n\\nGoogle Brain\\n\\navaswani@google.com\\n\\nNoam Shazeer∗ Google Brain noam@google.com\\n\\nNiki Parmar∗ Google Research nikip@google.com\\n\\nJakob Uszkoreit∗\\n\\nGoogle Research usz@google.com\\n\\nLlion Jones∗\\n\\nGoogle Research llion@google.com\\n\\nAidan N. Gomez∗ † University of Toronto aidan@cs.toronto.edu\\n\\nŁukasz Kaiser∗ Google Brain lukaszkaiser@google.com\\n\\nIllia Polosukhin∗ ‡\\n\\nillia.polosukhin@gmail.com\\n\\nAbstract\\n\\nThe dominant sequence transduction models are based on complex recurrent or convolutional neural networks that include an encoder and a decoder. The best performing models also connect the encoder and decoder through an attention mechanism. We propose a new simple network architecture, the Transformer, based solely on attention mechanisms, dispensing with recurrence and convolutions entirely. Experiments on two machine translation tasks show these models to be superior in quality while being more parallelizable and requiring significantly less time to train. Our model achieves 28.4 BLEU on the WMT 2014 English- to-German translation task, improving over the existing best results, including ensembles, by over 2 BLEU. On the WMT 2014 English-to-French translation task, our model establishes a new single-model state-of-the-art BLEU score of 41.8 after training for 3.5 days on eight GPUs, a small fraction of the training costs of the best models from the literature. We show that the Transformer generalizes well to other tasks by applying it successfully to English constituency parsing both with large and limited training data.\\n\\n∗Equal contribution. Listing order is random. Jakob proposed replacing RNNs with self-attention and started the effort to evaluate this idea. Ashish, with Illia, designed and implemented the first Transformer models and has been crucially involved in every aspect of this work. Noam proposed scaled dot-product attention, multi-head attention and the parameter-free position representation and became the other person involved in nearly every detail. Niki designed, implemented, tuned and evaluated countless model variants in our original codebase and tensor2tensor. Llion also experimented with novel model variants, was responsible for our initial codebase, and efficient inference and visualizations. Lukasz and Aidan spent countless long days designing various parts of and implementing tensor2tensor, replacing our earlier codebase, greatly improving results and massively accelerating our research.\\n\\n†Work performed while at Google Brain.\\n\\n‡Work performed while at Google Research.\\n\\n31st Conference on Neural Information Processing Systems (NIPS 2017), Long Beach, CA, USA.',\n",
       " 'metadata': {'filetype': 'application/pdf',\n",
       "  'languages': ['eng'],\n",
       "  'last_modified': '2025-03-02T21:06:35',\n",
       "  'page_number': 1,\n",
       "  'orig_elements': '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',\n",
       "  'file_directory': './content',\n",
       "  'filename': 'attention.pdf'}}"
      ]
     },
     "execution_count": 31,
     "metadata": {},
     "output_type": "execute_result"
    }
   ],
   "source": [
    "chunks[0].to_dict()"
   ]
  },
  {
   "cell_type": "code",
   "execution_count": 32,
   "metadata": {},
   "outputs": [
    {
     "data": {
      "text/plain": [
       "{'type': 'Image',\n",
       " 'element_id': '59fa28d2-64d6-4777-b03a-aa3cfe883af4',\n",
       " 'text': '',\n",
       " 'metadata': {'coordinates': {'points': ((486.0, 261.1805555555558),\n",
       "    (486.0, 614.7805555555556),\n",
       "    (664.0, 614.7805555555556),\n",
       "    (664.0, 261.1805555555558)),\n",
       "   'system': 'PixelSpace',\n",
       "   'layout_width': 1700,\n",
       "   'layout_height': 2200},\n",
       "  'last_modified': '2025-03-02T21:06:35',\n",
       "  'filetype': 'PPM',\n",
       "  'languages': ['eng'],\n",
       "  'page_number': 4,\n",
       "  'image_base64': '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',\n",
       "  'image_mime_type': 'image/jpeg'}}"
      ]
     },
     "execution_count": 32,
     "metadata": {},
     "output_type": "execute_result"
    }
   ],
   "source": [
    "elements = chunks[3].metadata.orig_elements\n",
    "chunk_images = [el for el in elements if \"Image\" in str(type(el))]\n",
    "\n",
    "chunk_images[0].to_dict()"
   ]
  },
  {
   "cell_type": "code",
   "execution_count": 33,
   "metadata": {},
   "outputs": [],
   "source": [
    "tables = []\n",
    "texts = []\n",
    "for chunk in chunks:\n",
    "    if \"Table\" in str(type(chunk)):\n",
    "        tables.append(chunk)\n",
    "    \n",
    "    if \"CompositeElement\" in str(type(chunk)):\n",
    "        texts.append(chunk)"
   ]
  },
  {
   "cell_type": "code",
   "execution_count": 34,
   "metadata": {},
   "outputs": [
    {
     "data": {
      "text/plain": [
       "[]"
      ]
     },
     "execution_count": 34,
     "metadata": {},
     "output_type": "execute_result"
    }
   ],
   "source": [
    "tables"
   ]
  },
  {
   "cell_type": "code",
   "execution_count": 35,
   "metadata": {},
   "outputs": [],
   "source": [
    "def get_image_base64(chunks):\n",
    "    images_bs64 = []\n",
    "    for chunk in chunks:\n",
    "        if \"CompositeElement\" in str(type(chunks)):\n",
    "            chunk_els= chunk.metadata.orig_elements\n",
    "            for el in chunk_els:\n",
    "                if \"Image\" in str(type(el)):\n",
    "                    images_bs64.append(el.metadata.image_base64)\n",
    "    return images_bs64\n",
    "\n",
    "images = get_image_base64(chunks)"
   ]
  },
  {
   "cell_type": "code",
   "execution_count": 36,
   "metadata": {},
   "outputs": [
    {
     "data": {
      "text/plain": [
       "[]"
      ]
     },
     "execution_count": 36,
     "metadata": {},
     "output_type": "execute_result"
    }
   ],
   "source": [
    "images"
   ]
  }
 ],
 "metadata": {
  "kernelspec": {
   "display_name": "base",
   "language": "python",
   "name": "python3"
  },
  "language_info": {
   "codemirror_mode": {
    "name": "ipython",
    "version": 3
   },
   "file_extension": ".py",
   "mimetype": "text/x-python",
   "name": "python",
   "nbconvert_exporter": "python",
   "pygments_lexer": "ipython3",
   "version": "3.12.7"
  }
 },
 "nbformat": 4,
 "nbformat_minor": 2
}
